{
  "cells": [
    {
      "cell_type": "code",
      "execution_count": null,
      "metadata": {
        "id": "8FfcQB6E1Lt8"
      },
      "outputs": [],
      "source": [
        "#Imports\n",
        "import numpy as np\n",
        "import pandas as pd\n",
        "import tensorflow as tf\n",
        "import matplotlib.pyplot as plt\n",
        "\n",
        "from sklearn.preprocessing import OneHotEncoder\n",
        "from sklearn.model_selection import train_test_split, RandomizedSearchCV, GridSearchCV\n",
        "from tensorflow import keras\n",
        "from keras.layers import *\n",
        "from keras.models import Sequential\n",
        "from functools import partial\n",
        "from sklearn.metrics import f1_score, ConfusionMatrixDisplay, precision_score, recall_score, roc_auc_score, accuracy_score\n",
        "from sklearn import svm\n",
        "from sklearn.ensemble import RandomForestClassifier, VotingClassifier\n",
        "from sklearn.neighbors import KNeighborsClassifier"
      ]
    },
    {
      "cell_type": "code",
      "execution_count": null,
      "metadata": {
        "id": "rDtBy6Ez2ovm",
        "colab": {
          "base_uri": "https://localhost:8080/"
        },
        "outputId": "e97d523f-042f-436c-b120-290f7ff629f5"
      },
      "outputs": [
        {
          "output_type": "stream",
          "name": "stderr",
          "text": [
            "/usr/local/lib/python3.7/dist-packages/IPython/core/interactiveshell.py:3326: DtypeWarning: Columns (0,6,7) have mixed types.Specify dtype option on import or set low_memory=False.\n",
            "  exec(code_obj, self.user_global_ns, self.user_ns)\n"
          ]
        }
      ],
      "source": [
        "#List of codons\n",
        "codon_list = ['UUU','UUC','UUA','UUG','CUU','CUC','CUA','CUG','AUU','AUC','AUA','AUG','GUU','GUC','GUA','GUG','GCU','GCC','GCA','GCG','CCU','CCC','CCA','CCG','UGG','GGU','GGC','GGA','GGG','UCU','UCC','UCA','UCG','AGU','AGC','ACU','ACC','ACA','ACG','UAU','UAC','CAA','CAG','AAU','AAC','UGU','UGC','CAU','CAC','AAA','AAG','CGU','CGC','CGA','CGG','AGA','AGG','GAU','GAC','GAA','GAG','UAA','UAG','UGA']\n",
        "#Load data\n",
        "df = pd.read_csv('/content/drive/MyDrive/Logan/ORFs/codon_usage.csv', delimiter = ',')\n",
        "#Trim out text or missing values\n",
        "df_trim = df[['Kingdom','DNAtype']+codon_list].apply(lambda x: pd.to_numeric(x, errors='coerce')).dropna()\n",
        "#Assign to variables\n",
        "X = df_trim[codon_list].astype(float)\n",
        "y = df_trim[['Kingdom','DNAtype']].astype(int)"
      ]
    },
    {
      "cell_type": "code",
      "execution_count": null,
      "metadata": {
        "colab": {
          "base_uri": "https://localhost:8080/"
        },
        "id": "2cSDm5_T1ZXw",
        "outputId": "e7d978b2-805b-41b8-f15d-609c3e47d902"
      },
      "outputs": [
        {
          "output_type": "stream",
          "name": "stderr",
          "text": [
            "/usr/local/lib/python3.7/dist-packages/ipykernel_launcher.py:22: DeprecationWarning: KerasClassifier is deprecated, use Sci-Keras (https://github.com/adriangb/scikeras) instead. See https://www.adriangb.com/scikeras/stable/migration.html for help migrating.\n"
          ]
        }
      ],
      "source": [
        "#Neural Networks\n",
        "#Function for CV Hyperparameter Optimization\n",
        "def build_model(n_layers,n_units,l2_pen,d_rate,input_shape=[64]): #standardize this with length of data\n",
        "    RegularizedDense = partial(\n",
        "        Dense,\n",
        "        activation='relu',\n",
        "        kernel_initializer='he_normal',\n",
        "        kernel_regularizer=keras.regularizers.l2(l2=l2_pen)\n",
        "    )\n",
        "    model = Sequential()\n",
        "    model.add(InputLayer(input_shape=input_shape))\n",
        "    model.add(Dropout(d_rate))\n",
        "    for layer in range(n_layers):\n",
        "        model.add(RegularizedDense(n_units))\n",
        "    model.add(RegularizedDense(n_units / 2))\n",
        "    model.add(RegularizedDense(n_units / 4))\n",
        "    model.add(Dense(3,activation='softmax')) #standardize this for length of data as well #3 or 5 depending on the classification\n",
        "    model.compile(loss='sparse_categorical_crossentropy',optimizer='adam',metrics=['accuracy'])\n",
        "    return model\n",
        "\n",
        "#Initialize kerasclassifier\n",
        "keras_class = tf.keras.wrappers.scikit_learn.KerasClassifier(build_model)\n",
        "#Possible parameters\n",
        "params_king = {\"n_layers\": np.arange(1,4,1),\n",
        "    \"n_units\": np.arange(500,700,50),\n",
        "    \"l2_pen\": np.arange(1e-8,1e-6,1e-7),\n",
        "    'd_rate': np.arange(0,0.3,0.1)\n",
        "    }\n",
        "\n",
        "params_dna = {\"n_layers\": np.arange(1,10,1),\n",
        "    \"n_units\": np.arange(100,1000,100),\n",
        "    \"l2_pen\": np.arange(0,1e-4,1e-6),\n",
        "    'd_rate': np.arange(0,0.5,0.1)\n",
        "    }\n",
        "#CV on parameters\n",
        "grid_king = RandomizedSearchCV(keras_class, params_king, cv = 3, verbose=2, n_iter = 20)\n",
        "grid_dna = RandomizedSearchCV(keras_class, params_dna, cv = 3, verbose=2, n_iter= 20)"
      ]
    },
    {
      "cell_type": "code",
      "execution_count": null,
      "metadata": {
        "id": "Q_P4xE5rlqSy"
      },
      "outputs": [],
      "source": [
        "y_king = y['Kingdom']\n",
        "X_train, X_test, y_train, y_test = train_test_split(X, y_king, test_size=0.2)\n",
        "\n",
        "#grid_king.fit(X_train, y_train, epochs = 15)\n",
        "#best_king_model = grid_king.best_estimator_.model\n",
        "\n",
        "#Split for Kingdom\n",
        "y_dna = y['DNAtype']\n",
        "X_train, X_test, y_train, y_test = train_test_split(X, y_dna, test_size=0.2)\n",
        "\n",
        "grid_dna.fit(X_train, y_train, epochs = 15)\n",
        "best_dna_model = grid_dna.best_estimator_.model\n",
        "\n",
        "#print(grid_king.best_params_)\n",
        "#print(best_king_model.evaluate(X_test,y_test))\n",
        "print(grid_dna.best_params_)\n",
        "print(best_dna_model.evaluate(X_test,y_test))"
      ]
    },
    {
      "cell_type": "code",
      "source": [
        "def metrics(y_pred, y_test):\n",
        "  auc = roc_auc_score(y_test, y_pred, multi_class= 'ovr')\n",
        "  y_pred = np.argmax(y_pred,axis=1)\n",
        "  recall = recall_score(y_test, y_pred, average='weighted')\n",
        "  precision = precision_score(y_test, y_pred, average='weighted')\n",
        "  macro_f1 = f1_score(y_test, y_pred, average='macro')\n",
        "  micro_f1 = f1_score(y_test, y_pred, average='micro')\n",
        "  accuracy = accuracy_score(y_test, y_pred)\n",
        "  ConfusionMatrixDisplay.from_predictions(y_test, y_pred)\n",
        "  plt.show()\n",
        "  return precision, recall, micro_f1, macro_f1, accuracy, auc"
      ],
      "metadata": {
        "id": "WFec738c6OYR"
      },
      "execution_count": null,
      "outputs": []
    },
    {
      "cell_type": "code",
      "execution_count": null,
      "metadata": {
        "id": "jmMG2kEUkaRV"
      },
      "outputs": [],
      "source": [
        "#Build Best Models from CV\n",
        "filepath = '/content/drive/MyDrive/Logan/ORFs/kingdom_model.hd5f'\n",
        "\n",
        "y_king = y['Kingdom']\n",
        "X_train, X_test, y_train, y_test = train_test_split(np.array(X), np.array(y_king), test_size=0.2)\n",
        "\n",
        "RegularizedDenseK = partial(\n",
        "    Dense,\n",
        "    activation='relu',\n",
        "    kernel_initializer='he_normal',\n",
        "    kernel_regularizer=keras.regularizers.l2(l2=6.1e-7)\n",
        ")\n",
        "\n",
        "king_model = Sequential([\n",
        "    InputLayer(input_shape=[64]),\n",
        "    RegularizedDenseK(600),\n",
        "    RegularizedDenseK(600),\n",
        "    RegularizedDenseK(300),\n",
        "    RegularizedDenseK(150),\n",
        "    Dense(5,activation='softmax')\n",
        "])\n",
        "\n",
        "early_stop = tf.keras.callbacks.EarlyStopping(\n",
        "    monitor = 'val_loss',\n",
        "    min_delta = 0,\n",
        "    patience = 50,\n",
        "    restore_best_weights=True\n",
        ")\n",
        "\n",
        "cp_callback = tf.keras.callbacks.ModelCheckpoint(\n",
        "    filepath = filepath,\n",
        "    save_weights_only=True,\n",
        "    save_best_only=True,\n",
        "    verbose=1\n",
        ")\n",
        "\n",
        "king_model.compile(loss='sparse_categorical_crossentropy',optimizer='adam',metrics=['accuracy'])\n",
        "\n",
        "king_model.fit(X_train, y_train,\n",
        "               epochs = 1000,\n",
        "               validation_split=0.2,\n",
        "               callbacks=[cp_callback, early_stop],\n",
        "               shuffle = True)\n",
        "\n",
        "y_pred = king_model.predict(X_test)\n",
        "metrics(y_pred, y_test)"
      ]
    },
    {
      "cell_type": "code",
      "source": [
        "filepath = '/content/drive/MyDrive/Logan/ORFs/dna_model.hd5f'\n",
        "\n",
        "y_dna = y['DNAtype']\n",
        "X_train, X_test, y_train, y_test = train_test_split(np.array(X), np.array(y_dna), test_size=0.2)\n",
        "\n",
        "RegularizedDenseD = partial(\n",
        "    Dense,\n",
        "    activation='relu',\n",
        "    kernel_initializer='he_normal',\n",
        "    kernel_regularizer=keras.regularizers.l2(l2=6.3e-5)\n",
        ")\n",
        "\n",
        "early_stop = tf.keras.callbacks.EarlyStopping(\n",
        "    monitor = 'val_loss',\n",
        "    min_delta = 0,\n",
        "    patience = 50,\n",
        "    restore_best_weights=True\n",
        ")\n",
        "\n",
        "cp_callback = tf.keras.callbacks.ModelCheckpoint(\n",
        "    filepath = filepath,\n",
        "    save_weights_only=True,\n",
        "    save_best_only=True,\n",
        "    verbose=1\n",
        ")\n",
        "\n",
        "dna_model = Sequential([\n",
        "    InputLayer(input_shape=[64]),\n",
        "    RegularizedDenseD(700),\n",
        "    Dropout(0.2),\n",
        "    RegularizedDenseD(700),\n",
        "    Dropout(0.2),\n",
        "    RegularizedDenseD(700),\n",
        "    Dropout(0.2),\n",
        "    RegularizedDenseD(700),\n",
        "    Dropout(0.2),\n",
        "    RegularizedDenseD(700),\n",
        "    Dropout(0.2),\n",
        "    RegularizedDenseD(700),\n",
        "    Dropout(0.2),\n",
        "    RegularizedDenseD(350),\n",
        "    RegularizedDenseD(175),\n",
        "    Dense(3,activation='softmax')\n",
        "])\n",
        "\n",
        "dna_model.compile(loss='sparse_categorical_crossentropy',optimizer='adam',metrics=['accuracy'])\n",
        "\n",
        "dna_model.fit(X_train, y_train,\n",
        "               epochs = 1000,\n",
        "               validation_split=0.2,\n",
        "               callbacks=[cp_callback, early_stop],\n",
        "               shuffle = True)\n",
        "\n",
        "y_pred = dna_model.predict(X_test)\n",
        "metrics(y_pred, y_test)"
      ],
      "metadata": {
        "id": "kdq5sHL7P6Xn"
      },
      "execution_count": null,
      "outputs": []
    },
    {
      "cell_type": "code",
      "source": [
        "#SVM Model\n",
        "y_king = y['Kingdom']\n",
        "X_train, X_test, y_train, y_test = train_test_split(np.array(X), np.array(y_king), test_size=0.2)\n",
        "\n",
        "param_grid = {'C': [int(x) for x in np.linspace(start = 100, stop = 300, num = 10)],\n",
        "              'gamma': [int(x) for x in np.linspace(start = 20, stop = 50, num = 5)],\n",
        "              }\n",
        "grid_king = GridSearchCV(svm.SVC(kernel='rbf', decision_function_shape='ovr'), param_grid, cv=5, verbose = 2, n_jobs = -1)\n",
        "grid_king.fit(X_train, y_train)\n",
        "print(grid_king.best_params_)"
      ],
      "metadata": {
        "colab": {
          "base_uri": "https://localhost:8080/"
        },
        "id": "ZkyeFB0siTlJ",
        "outputId": "2a3f54a0-0223-46e8-b27d-8fa29e95d242"
      },
      "execution_count": null,
      "outputs": [
        {
          "output_type": "stream",
          "name": "stdout",
          "text": [
            "Fitting 5 folds for each of 50 candidates, totalling 250 fits\n",
            "{'C': 100, 'gamma': 42}\n"
          ]
        }
      ]
    },
    {
      "cell_type": "code",
      "source": [
        "y_dna = y['DNAtype']\n",
        "X_train, X_test, y_train, y_test = train_test_split(np.array(X), np.array(y_dna), test_size=0.2)\n",
        "\n",
        "param_grid = {'C': [int(x) for x in np.linspace(start = 400, stop = 700, num = 10)],\n",
        "              'gamma': [int(x) for x in np.linspace(start = 60, stop = 100, num = 10)],\n",
        "              }\n",
        "grid_dna = GridSearchCV(svm.SVC(kernel='rbf', decision_function_shape='ovr'), param_grid, cv=5, verbose = 2, n_jobs = -1)\n",
        "grid_dna.fit(X_train, y_train)\n",
        "print(grid_dna.best_params_)"
      ],
      "metadata": {
        "colab": {
          "base_uri": "https://localhost:8080/"
        },
        "id": "rnbY2W-hj-E0",
        "outputId": "3ccee695-276d-42b1-e167-acb317f7c440"
      },
      "execution_count": null,
      "outputs": [
        {
          "output_type": "stream",
          "name": "stdout",
          "text": [
            "Fitting 5 folds for each of 100 candidates, totalling 500 fits\n",
            "{'C': 400, 'gamma': 95}\n"
          ]
        }
      ]
    },
    {
      "cell_type": "code",
      "source": [
        "y_king = y['Kingdom']\n",
        "X_train, X_test, y_train, y_test = train_test_split(np.array(X), np.array(y_king), test_size=0.2)\n",
        "\n",
        "best_king_svm = svm.SVC(kernel='rbf', C=144, gamma=50,decision_function_shape='ovr')\n",
        "best_king_svm.fit(X_train, y_train)\n",
        "y_pred = best_king_svm.predict(X_test)\n",
        "onehot = OneHotEncoder(sparse=False)\n",
        "y_pred_hot = onehot.fit_transform(y_pred.reshape(-1, 1))\n",
        "metrics(y_pred_hot, y_test)"
      ],
      "metadata": {
        "id": "rLRSicfKl2qu",
        "colab": {
          "base_uri": "https://localhost:8080/"
        },
        "outputId": "a80b7769-5c47-4d62-b021-ee1533a68894"
      },
      "execution_count": null,
      "outputs": [
        {
          "output_type": "execute_result",
          "data": {
            "text/plain": [
              "(0.9676050906286155,\n",
              " 0.9676050906286155,\n",
              " 0.9676050906286155,\n",
              " 0.8936035421540212,\n",
              " 0.9676050906286155,\n",
              " 0.9405558948990521)"
            ]
          },
          "metadata": {},
          "execution_count": 31
        }
      ]
    },
    {
      "cell_type": "code",
      "source": [
        "y_dna = y['DNAtype']\n",
        "X_train, X_test, y_train, y_test = train_test_split(np.array(X), np.array(y_dna), test_size=0.2)\n",
        "\n",
        "best_king_svm = svm.SVC(kernel='rbf', C=400, gamma=95, decision_function_shape='ovr')\n",
        "best_king_svm.fit(X_train, y_train)\n",
        "y_pred = best_king_svm.predict(X_test)\n",
        "onehot = OneHotEncoder(sparse=False)\n",
        "y_pred_hot = onehot.fit_transform(y_pred.reshape(-1, 1))\n",
        "metrics(y_pred_hot, y_test)"
      ],
      "metadata": {
        "id": "rkJPu8KNmMDs",
        "colab": {
          "base_uri": "https://localhost:8080/"
        },
        "outputId": "ba987264-8357-40cd-bed4-0c44a5845211"
      },
      "execution_count": null,
      "outputs": [
        {
          "output_type": "execute_result",
          "data": {
            "text/plain": [
              "(0.9942151947551099,\n",
              " 0.9942151947551099,\n",
              " 0.9942151947551099,\n",
              " 0.9866043347865082,\n",
              " 0.9942151947551099,\n",
              " 0.9886766944365636)"
            ]
          },
          "metadata": {},
          "execution_count": 32
        }
      ]
    },
    {
      "cell_type": "code",
      "source": [
        "#Random Forest CV\n",
        "y_king = y['Kingdom']\n",
        "X_train, X_test, y_train, y_test = train_test_split(np.array(X), np.array(y_king), test_size=0.2)\n",
        "\n",
        "# Number of trees in random forest\n",
        "n_estimators = [int(x) for x in np.linspace(start = 200, stop = 1200, num = 10)]\n",
        "# Number of features to consider at every split\n",
        "max_features = ['auto', 'sqrt']\n",
        "# Maximum number of levels in tree\n",
        "max_depth = [int(x) for x in np.linspace(10, 100, num = 5)]\n",
        "max_depth.append(None)\n",
        "# Minimum number of samples required to split a node\n",
        "min_samples_split = [2, 5, 10]\n",
        "# Minimum number of samples required at each leaf node\n",
        "min_samples_leaf = [1, 2, 4]\n",
        "# Method of selecting samples for training each tree\n",
        "bootstrap = [True, False]\n",
        "# Create the random grid\n",
        "random_grid = {'n_estimators': n_estimators,\n",
        "               'max_features': max_features,\n",
        "               'max_depth': max_depth,\n",
        "               'min_samples_split': min_samples_split,\n",
        "               'min_samples_leaf': min_samples_leaf,\n",
        "               'bootstrap': bootstrap}\n",
        "rf = RandomForestClassifier()\n",
        "rf_random = RandomizedSearchCV(rf, random_grid, cv = 3, verbose=2, n_jobs = -1, n_iter = 50)\n",
        "# Fit the random search model\n",
        "rf_random.fit(X_train, y_train)\n",
        "print(rf_random.best_params_) #print best paramaters"
      ],
      "metadata": {
        "colab": {
          "base_uri": "https://localhost:8080/"
        },
        "id": "OfcENkXsOR-u",
        "outputId": "6e7f4334-5fad-47ed-c15b-56708699b549"
      },
      "execution_count": null,
      "outputs": [
        {
          "output_type": "stream",
          "name": "stdout",
          "text": [
            "Fitting 3 folds for each of 50 candidates, totalling 150 fits\n",
            "{'n_estimators': 1200, 'min_samples_split': 2, 'min_samples_leaf': 1, 'max_features': 'auto', 'max_depth': 100, 'bootstrap': False}\n"
          ]
        }
      ]
    },
    {
      "cell_type": "code",
      "source": [
        "#Random Forest CV\n",
        "y_dna = y['DNAtype']\n",
        "X_train, X_test, y_train, y_test = train_test_split(np.array(X), np.array(y_dna), test_size=0.2)\n",
        "\n",
        "# Number of trees in random forest\n",
        "n_estimators = [int(x) for x in np.linspace(start = 200, stop = 1200, num = 10)]\n",
        "# Number of features to consider at every split\n",
        "max_features = ['auto', 'sqrt']\n",
        "# Maximum number of levels in tree\n",
        "max_depth = [int(x) for x in np.linspace(10, 100, num = 5)]\n",
        "max_depth.append(None)\n",
        "# Minimum number of samples required to split a node\n",
        "min_samples_split = [2, 5, 10]\n",
        "# Minimum number of samples required at each leaf node\n",
        "min_samples_leaf = [1, 2, 4]\n",
        "# Method of selecting samples for training each tree\n",
        "bootstrap = [True, False]\n",
        "# Create the random grid\n",
        "random_grid = {'n_estimators': n_estimators,\n",
        "               'max_features': max_features,\n",
        "               'max_depth': max_depth,\n",
        "               'min_samples_split': min_samples_split,\n",
        "               'min_samples_leaf': min_samples_leaf,\n",
        "               'bootstrap': bootstrap}\n",
        "rf = RandomForestClassifier()\n",
        "rf_random = RandomizedSearchCV(rf, random_grid, cv = 3, verbose=2, n_jobs = -1, n_iter = 50)\n",
        "# Fit the random search model\n",
        "rf_random.fit(X_train, y_train)\n",
        "print(rf_random.best_params_) #print best paramaters"
      ],
      "metadata": {
        "colab": {
          "base_uri": "https://localhost:8080/"
        },
        "id": "H9NdjJauPHzh",
        "outputId": "d3d7feac-a691-4ef1-ee9c-5da8ed2c6d8a"
      },
      "execution_count": null,
      "outputs": [
        {
          "output_type": "stream",
          "name": "stdout",
          "text": [
            "Fitting 3 folds for each of 50 candidates, totalling 150 fits\n",
            "{'n_estimators': 1088, 'min_samples_split': 5, 'min_samples_leaf': 1, 'max_features': 'auto', 'max_depth': None, 'bootstrap': False}\n"
          ]
        }
      ]
    },
    {
      "cell_type": "code",
      "source": [
        "#Ensemble\n",
        "y_king = y['Kingdom']\n",
        "X_train, X_test, y_train, y_test = train_test_split(np.array(X), np.array(y_king), test_size=0.2)\n",
        "\n",
        "rnd_clf = RandomForestClassifier(n_estimators=1200,min_samples_split= 2,min_samples_leaf= 1,max_features= 'auto',max_depth= 100,bootstrap=False)\n",
        "svm_clf = svm.SVC(kernel='rbf', C=144, gamma=50,decision_function_shape='ovr')\n",
        "knn_clf = KNeighborsClassifier(n_neighbors = 1)\n",
        "\n",
        "rnd_clf.fit(X_train, y_train)\n",
        "y_pred = rnd_clf.predict(X_test)\n",
        "onehot = OneHotEncoder(sparse=False)\n",
        "y_pred_hot = onehot.fit_transform(y_pred.reshape(-1, 1))\n",
        "metrics(y_pred_hot, y_test)"
      ],
      "metadata": {
        "colab": {
          "base_uri": "https://localhost:8080/",
          "height": 383
        },
        "id": "FJAJALNrR6W4",
        "outputId": "efe6a6b9-4155-4482-d0df-a70db3c7280e"
      },
      "execution_count": null,
      "outputs": [
        {
          "output_type": "display_data",
          "data": {
            "text/plain": [
              "<Figure size 432x288 with 2 Axes>"
            ],
            "image/png": "[encoded data removed]"
          },
          "metadata": {
            "needs_background": "light"
          }
        },
        {
          "output_type": "execute_result",
          "data": {
            "text/plain": [
              "(0.94745135137509,\n",
              " 0.9483224064789819,\n",
              " 0.9483224064789819,\n",
              " 0.8064681324497329,\n",
              " 0.9483224064789819,\n",
              " 0.8661499583232756)"
            ]
          },
          "metadata": {},
          "execution_count": 54
        }
      ]
    },
    {
      "cell_type": "code",
      "source": [
        "voting_clf = VotingClassifier(\n",
        "    estimators = [('rf', rnd_clf),('svc', svm_clf),('knn', knn_clf)],\n",
        "    voting = 'hard')\n",
        "voting_clf.fit(X_train, y_train)\n",
        "y_pred = voting_clf.predict(X_test)\n",
        "onehot = OneHotEncoder(sparse=False)\n",
        "y_pred_hot = onehot.fit_transform(y_pred.reshape(-1, 1))\n",
        "metrics(y_pred_hot, y_test)"
      ],
      "metadata": {
        "colab": {
          "base_uri": "https://localhost:8080/",
          "height": 383
        },
        "id": "Olz3bXbuYI_P",
        "outputId": "4e34cdd2-65f1-45c6-e4c0-5c5f81b9face"
      },
      "execution_count": null,
      "outputs": [
        {
          "output_type": "display_data",
          "data": {
            "text/plain": [
              "<Figure size 432x288 with 2 Axes>"
            ],
            "image/png": "[encoded data removed]"
          },
          "metadata": {
            "needs_background": "light"
          }
        },
        {
          "output_type": "execute_result",
          "data": {
            "text/plain": [
              "(0.9691367299803891,\n",
              " 0.9695333590435788,\n",
              " 0.9695333590435788,\n",
              " 0.9034295643227608,\n",
              " 0.9695333590435788,\n",
              " 0.937497487249256)"
            ]
          },
          "metadata": {},
          "execution_count": 55
        }
      ]
    },
    {
      "cell_type": "code",
      "source": [
        "y_dna = y['DNAtype']\n",
        "X_train, X_test, y_train, y_test = train_test_split(np.array(X), np.array(y_dna), test_size=0.2)\n",
        "\n",
        "rnd_clf = RandomForestClassifier(n_estimators=1088,min_samples_split=5,min_samples_leaf= 1,max_features= 'auto',max_depth= None,bootstrap=False)\n",
        "svm_clf = svm.SVC(kernel='rbf', C=400, gamma=95, decision_function_shape='ovr')\n",
        "knn_clf = KNeighborsClassifier(n_neighbors = 3)\n",
        "\n",
        "rnd_clf.fit(X_train, y_train)\n",
        "y_pred = rnd_clf.predict(X_test)\n",
        "onehot = OneHotEncoder(sparse=False)\n",
        "y_pred_hot = onehot.fit_transform(y_pred.reshape(-1, 1))\n",
        "metrics(y_pred_hot, y_test)"
      ],
      "metadata": {
        "colab": {
          "base_uri": "https://localhost:8080/",
          "height": 383
        },
        "id": "rhHTERuQPdwi",
        "outputId": "e2671122-05d5-4488-c919-6c3e1456d2e8"
      },
      "execution_count": null,
      "outputs": [
        {
          "output_type": "display_data",
          "data": {
            "text/plain": [
              "<Figure size 432x288 with 2 Axes>"
            ],
            "image/png": "[encoded data removed]"
          },
          "metadata": {
            "needs_background": "light"
          }
        },
        {
          "output_type": "execute_result",
          "data": {
            "text/plain": [
              "(0.9927097042467753,\n",
              " 0.9926725800231392,\n",
              " 0.9926725800231392,\n",
              " 0.98546824681794,\n",
              " 0.9926725800231392,\n",
              " 0.984263296397971)"
            ]
          },
          "metadata": {},
          "execution_count": 6
        }
      ]
    },
    {
      "cell_type": "code",
      "source": [
        "voting_clf = VotingClassifier(\n",
        "    estimators = [('rf', rnd_clf),('svc', svm_clf),('knn', knn_clf)],\n",
        "    voting = 'hard')\n",
        "voting_clf.fit(X_train, y_train)\n",
        "y_pred = voting_clf.predict(X_test)\n",
        "onehot = OneHotEncoder(sparse=False)\n",
        "y_pred_hot = onehot.fit_transform(y_pred.reshape(-1, 1))\n",
        "metrics(y_pred_hot, y_test)"
      ],
      "metadata": {
        "id": "z4nfoKw-lm5n"
      },
      "execution_count": null,
      "outputs": []
    },
    {
      "cell_type": "code",
      "source": [],
      "metadata": {
        "id": "MPT9BqOxlpy_"
      },
      "execution_count": null,
      "outputs": []
    }
  ],
  "metadata": {
    "accelerator": "GPU",
    "colab": {
      "machine_shape": "hm",
      "provenance": []
    },
    "gpuClass": "standard",
    "kernelspec": {
      "display_name": "Python 3",
      "name": "python3"
    },
    "language_info": {
      "name": "python"
    }
  },
  "nbformat": 4,
  "nbformat_minor": 0
}